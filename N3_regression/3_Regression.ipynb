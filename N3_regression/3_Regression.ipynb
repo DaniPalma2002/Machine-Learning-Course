{
 "cells": [
  {
   "cell_type": "markdown",
   "metadata": {},
   "source": [
    "# Regression"
   ]
  },
  {
   "cell_type": "markdown",
   "metadata": {},
   "source": [
    "### 1) Regression models"
   ]
  },
  {
   "cell_type": "markdown",
   "metadata": {},
   "source": [
    "**Essential preprocessing**"
   ]
  },
  {
   "cell_type": "code",
   "execution_count": 18,
   "metadata": {},
   "outputs": [],
   "source": [
    "from sklearn import datasets\n",
    "import pandas as pd, numpy as np, math"
   ]
  },
  {
   "cell_type": "markdown",
   "metadata": {},
   "source": [
    "*sklearn* stores diverse datasets that can be optionally converted into a dataframe"
   ]
  },
  {
   "cell_type": "code",
   "execution_count": 19,
   "metadata": {},
   "outputs": [
    {
     "name": "stderr",
     "output_type": "stream",
     "text": [
      "c:\\Users\\Utilizador\\AppData\\Local\\Programs\\Python\\Python310\\lib\\site-packages\\sklearn\\utils\\deprecation.py:87: FutureWarning: Function load_boston is deprecated; `load_boston` is deprecated in 1.0 and will be removed in 1.2.\n",
      "\n",
      "    The Boston housing prices dataset has an ethical problem. You can refer to\n",
      "    the documentation of this function for further details.\n",
      "\n",
      "    The scikit-learn maintainers therefore strongly discourage the use of this\n",
      "    dataset unless the purpose of the code is to study and educate about\n",
      "    ethical issues in data science and machine learning.\n",
      "\n",
      "    In this special case, you can fetch the dataset from the original\n",
      "    source::\n",
      "\n",
      "        import pandas as pd\n",
      "        import numpy as np\n",
      "\n",
      "        data_url = \"http://lib.stat.cmu.edu/datasets/boston\"\n",
      "        raw_df = pd.read_csv(data_url, sep=\"\\s+\", skiprows=22, header=None)\n",
      "        data = np.hstack([raw_df.values[::2, :], raw_df.values[1::2, :2]])\n",
      "        target = raw_df.values[1::2, 2]\n",
      "\n",
      "    Alternative datasets include the California housing dataset (i.e.\n",
      "    :func:`~sklearn.datasets.fetch_california_housing`) and the Ames housing\n",
      "    dataset. You can load the datasets as follows::\n",
      "\n",
      "        from sklearn.datasets import fetch_california_housing\n",
      "        housing = fetch_california_housing()\n",
      "\n",
      "    for the California housing dataset and::\n",
      "\n",
      "        from sklearn.datasets import fetch_openml\n",
      "        housing = fetch_openml(name=\"house_prices\", as_frame=True)\n",
      "\n",
      "    for the Ames housing dataset.\n",
      "  warnings.warn(msg, category=FutureWarning)\n"
     ]
    },
    {
     "data": {
      "text/html": [
       "<div>\n",
       "<style scoped>\n",
       "    .dataframe tbody tr th:only-of-type {\n",
       "        vertical-align: middle;\n",
       "    }\n",
       "\n",
       "    .dataframe tbody tr th {\n",
       "        vertical-align: top;\n",
       "    }\n",
       "\n",
       "    .dataframe thead th {\n",
       "        text-align: right;\n",
       "    }\n",
       "</style>\n",
       "<table border=\"1\" class=\"dataframe\">\n",
       "  <thead>\n",
       "    <tr style=\"text-align: right;\">\n",
       "      <th></th>\n",
       "      <th>CRIM</th>\n",
       "      <th>ZN</th>\n",
       "      <th>INDUS</th>\n",
       "      <th>CHAS</th>\n",
       "      <th>NOX</th>\n",
       "      <th>RM</th>\n",
       "      <th>AGE</th>\n",
       "      <th>DIS</th>\n",
       "      <th>RAD</th>\n",
       "      <th>TAX</th>\n",
       "      <th>PTRATIO</th>\n",
       "      <th>B</th>\n",
       "      <th>LSTAT</th>\n",
       "      <th>target</th>\n",
       "    </tr>\n",
       "  </thead>\n",
       "  <tbody>\n",
       "    <tr>\n",
       "      <th>0</th>\n",
       "      <td>0.00632</td>\n",
       "      <td>18.0</td>\n",
       "      <td>2.31</td>\n",
       "      <td>0.0</td>\n",
       "      <td>0.538</td>\n",
       "      <td>6.575</td>\n",
       "      <td>65.2</td>\n",
       "      <td>4.0900</td>\n",
       "      <td>1.0</td>\n",
       "      <td>296.0</td>\n",
       "      <td>15.3</td>\n",
       "      <td>396.90</td>\n",
       "      <td>4.98</td>\n",
       "      <td>24.0</td>\n",
       "    </tr>\n",
       "    <tr>\n",
       "      <th>1</th>\n",
       "      <td>0.02731</td>\n",
       "      <td>0.0</td>\n",
       "      <td>7.07</td>\n",
       "      <td>0.0</td>\n",
       "      <td>0.469</td>\n",
       "      <td>6.421</td>\n",
       "      <td>78.9</td>\n",
       "      <td>4.9671</td>\n",
       "      <td>2.0</td>\n",
       "      <td>242.0</td>\n",
       "      <td>17.8</td>\n",
       "      <td>396.90</td>\n",
       "      <td>9.14</td>\n",
       "      <td>21.6</td>\n",
       "    </tr>\n",
       "    <tr>\n",
       "      <th>2</th>\n",
       "      <td>0.02729</td>\n",
       "      <td>0.0</td>\n",
       "      <td>7.07</td>\n",
       "      <td>0.0</td>\n",
       "      <td>0.469</td>\n",
       "      <td>7.185</td>\n",
       "      <td>61.1</td>\n",
       "      <td>4.9671</td>\n",
       "      <td>2.0</td>\n",
       "      <td>242.0</td>\n",
       "      <td>17.8</td>\n",
       "      <td>392.83</td>\n",
       "      <td>4.03</td>\n",
       "      <td>34.7</td>\n",
       "    </tr>\n",
       "    <tr>\n",
       "      <th>3</th>\n",
       "      <td>0.03237</td>\n",
       "      <td>0.0</td>\n",
       "      <td>2.18</td>\n",
       "      <td>0.0</td>\n",
       "      <td>0.458</td>\n",
       "      <td>6.998</td>\n",
       "      <td>45.8</td>\n",
       "      <td>6.0622</td>\n",
       "      <td>3.0</td>\n",
       "      <td>222.0</td>\n",
       "      <td>18.7</td>\n",
       "      <td>394.63</td>\n",
       "      <td>2.94</td>\n",
       "      <td>33.4</td>\n",
       "    </tr>\n",
       "    <tr>\n",
       "      <th>4</th>\n",
       "      <td>0.06905</td>\n",
       "      <td>0.0</td>\n",
       "      <td>2.18</td>\n",
       "      <td>0.0</td>\n",
       "      <td>0.458</td>\n",
       "      <td>7.147</td>\n",
       "      <td>54.2</td>\n",
       "      <td>6.0622</td>\n",
       "      <td>3.0</td>\n",
       "      <td>222.0</td>\n",
       "      <td>18.7</td>\n",
       "      <td>396.90</td>\n",
       "      <td>5.33</td>\n",
       "      <td>36.2</td>\n",
       "    </tr>\n",
       "  </tbody>\n",
       "</table>\n",
       "</div>"
      ],
      "text/plain": [
       "      CRIM    ZN  INDUS  CHAS    NOX     RM   AGE     DIS  RAD    TAX  \\\n",
       "0  0.00632  18.0   2.31   0.0  0.538  6.575  65.2  4.0900  1.0  296.0   \n",
       "1  0.02731   0.0   7.07   0.0  0.469  6.421  78.9  4.9671  2.0  242.0   \n",
       "2  0.02729   0.0   7.07   0.0  0.469  7.185  61.1  4.9671  2.0  242.0   \n",
       "3  0.03237   0.0   2.18   0.0  0.458  6.998  45.8  6.0622  3.0  222.0   \n",
       "4  0.06905   0.0   2.18   0.0  0.458  7.147  54.2  6.0622  3.0  222.0   \n",
       "\n",
       "   PTRATIO       B  LSTAT  target  \n",
       "0     15.3  396.90   4.98    24.0  \n",
       "1     17.8  396.90   9.14    21.6  \n",
       "2     17.8  392.83   4.03    34.7  \n",
       "3     18.7  394.63   2.94    33.4  \n",
       "4     18.7  396.90   5.33    36.2  "
      ]
     },
     "execution_count": 19,
     "metadata": {},
     "output_type": "execute_result"
    }
   ],
   "source": [
    "boston = datasets.load_boston()\n",
    "df = pd.DataFrame(data=boston.data, columns=boston.feature_names)\n",
    "df[\"target\"] = boston.target\n",
    "df.head()"
   ]
  },
  {
   "cell_type": "markdown",
   "metadata": {},
   "source": [
    "Let us now split data for evaluation purposes"
   ]
  },
  {
   "cell_type": "code",
   "execution_count": 20,
   "metadata": {},
   "outputs": [
    {
     "name": "stdout",
     "output_type": "stream",
     "text": [
      "train: (354, 13) \n",
      "test: (152, 13)\n"
     ]
    }
   ],
   "source": [
    "from sklearn.model_selection import train_test_split\n",
    "\n",
    "X, y = boston.data, boston.target\n",
    "X_train, X_test, y_train, y_test = train_test_split(X, y, test_size=0.30, random_state=40)\n",
    "print(\"train:\",X_train.shape,\"\\ntest:\",X_test.shape)"
   ]
  },
  {
   "cell_type": "markdown",
   "metadata": {},
   "source": [
    "**Classic linear regression models**"
   ]
  },
  {
   "cell_type": "code",
   "execution_count": 21,
   "metadata": {},
   "outputs": [],
   "source": [
    "from sklearn.linear_model import LinearRegression, Ridge, Lasso"
   ]
  },
  {
   "cell_type": "code",
   "execution_count": 22,
   "metadata": {},
   "outputs": [
    {
     "name": "stdout",
     "output_type": "stream",
     "text": [
      "intercept: 35.839894311579776\n",
      "coefficients: [-1.02065294e-01  3.92035307e-02 -6.13494400e-02  3.48084703e+00\n",
      " -1.74598953e+01  3.66444175e+00 -5.31304197e-03 -1.37067900e+00\n",
      "  2.51447673e-01 -9.43832755e-03 -8.58133141e-01  6.78308990e-03\n",
      " -4.96519703e-01]\n"
     ]
    }
   ],
   "source": [
    "lr = LinearRegression()\n",
    "lr.fit(X_train, y_train)\n",
    "print(\"intercept:\",lr.intercept_)\n",
    "print(\"coefficients:\",lr.coef_)"
   ]
  },
  {
   "cell_type": "code",
   "execution_count": 23,
   "metadata": {},
   "outputs": [
    {
     "name": "stdout",
     "output_type": "stream",
     "text": [
      "reference:\n",
      " [23.3 15.  23.7 20.9 26.6 13.  19.9 20.3 18.1 32.7 18.4 22.3 21.1 31.5\n",
      " 17.8 21.8 18.5 14.8 29.8 20.6] \n",
      "\n",
      "predictions:\n",
      " [21.90120073 15.12718941 25.86623702 21.14525815 27.93801949 16.40015363\n",
      " 17.91715993 22.19497631 16.28938292 30.24731583 17.60199653 26.78180535\n",
      " 20.7844608  31.93193273 21.29283751 20.44635959 19.35414797 15.01820531\n",
      " 32.15005741 18.80014414]\n"
     ]
    }
   ],
   "source": [
    "from sklearn import metrics\n",
    "\n",
    "pred_train_lr= lr.predict(X_train)\n",
    "print(\"reference:\\n\",y_train[0:20],\"\\n\\npredictions:\\n\",pred_train_lr[0:20])"
   ]
  },
  {
   "cell_type": "code",
   "execution_count": 24,
   "metadata": {},
   "outputs": [
    {
     "name": "stdout",
     "output_type": "stream",
     "text": [
      "Training RMSE: 4.284146230476762\n",
      "Training R2: 0.7431215456774967\n"
     ]
    }
   ],
   "source": [
    "print(\"Training RMSE:\",np.sqrt(metrics.mean_squared_error(y_train,pred_train_lr)))\n",
    "print(\"Training R2:\",metrics.r2_score(y_train, pred_train_lr))"
   ]
  },
  {
   "cell_type": "code",
   "execution_count": 25,
   "metadata": {},
   "outputs": [
    {
     "name": "stdout",
     "output_type": "stream",
     "text": [
      "RMSE (no regularization): 5.641775532184689\n",
      "R2 (no regularization): 0.7215519718844141\n"
     ]
    }
   ],
   "source": [
    "pred_test_lr= lr.predict(X_test)\n",
    "print(\"RMSE (no regularization):\",np.sqrt(metrics.mean_squared_error(y_test,pred_test_lr))) \n",
    "print(\"R2 (no regularization):\",metrics.r2_score(y_test, pred_test_lr))"
   ]
  },
  {
   "cell_type": "code",
   "execution_count": 43,
   "metadata": {},
   "outputs": [
    {
     "name": "stdout",
     "output_type": "stream",
     "text": [
      "[21.92657299 32.36040215  9.37595055 16.41032872 17.80311375 31.82871794\n",
      " 25.10949509 15.4945716  21.85998955 -3.62986079 26.12124478 15.57820156\n",
      "  5.60435267  5.5900377  25.40305033 34.7003996  26.17462523 19.13764096\n",
      " 23.92185091 14.9132447  39.53895047 11.08485956 36.58288595 26.00319608\n",
      " 38.63983382 25.19117517 21.74908982 18.96896304 18.27739548 18.60019406\n",
      " 24.62685435 23.66192298 29.70608436 24.08616718  0.49819043 24.64320572\n",
      " 25.22478093 12.19922671 39.49387423 32.22644648 23.75605132  7.06553616\n",
      " 20.38975769 21.0080723  31.32000037  7.46300147 12.70863494 31.32528788\n",
      " 22.39998187 35.82863289 12.81485349 20.72044136 18.48600584  7.6674664\n",
      "  6.49473242 40.44797673 24.9412126  24.16568406 23.02948652  7.59402229\n",
      " 22.86061355  9.73095594 32.95390038 14.07152729 28.52088961 17.19471368\n",
      "  3.61457525 28.63432476 19.43805746 18.7205156  19.37195434 27.88620034\n",
      " 21.09746626 27.95913015 34.21004361 20.00085576 13.39655408 24.71360405\n",
      " 16.71404633 22.71956641 18.90041718 17.47053773 18.6007791  10.08961866\n",
      " 16.79970023 10.92087906 17.08428284 20.40226179 20.33158873 19.1595428\n",
      " 27.41896536  7.76802221 20.1217092   5.19592244 20.2118638   5.19329456\n",
      " 17.5612341  27.00330661 23.00746358 20.52355067 24.44467371 16.22817078\n",
      " 24.81006431  5.95753142 31.2585079  21.70753291 30.42609761 31.81957895\n",
      " 21.9100868  17.4079545  29.99441449 39.96217356 27.59735026 22.02989983\n",
      " 22.26391621 14.97527901 21.29456828 19.36236289 41.87842994 21.35245592\n",
      " 22.53471075 28.9768299  25.21505386 16.48026925 41.71004882 18.16843311\n",
      " 13.61807651 24.60131142 16.29559533 28.5360067  13.22750965 26.69554571\n",
      " 30.08706649 23.06724539 33.65243753 34.88019089 19.19524885 20.22641039\n",
      " 13.38908605 19.59147807 12.96406339 35.11212352 16.96337266 25.12750005\n",
      " 27.24648137 22.67002392 14.27213169 23.21324368 14.87590162 34.54643016\n",
      " 36.12488577 13.89741434]\n",
      "RMSE (Ridge): 5.64169381818958\n",
      "R2 (Ridge): 0.7215600377622226\n"
     ]
    }
   ],
   "source": [
    "rr = Ridge(alpha=0.01)\n",
    "rr.fit(X_train, y_train) \n",
    "pred_test_rr= rr.predict(X_test)\n",
    "print(pred_test_rr)\n",
    "print(\"RMSE (Ridge):\",np.sqrt(metrics.mean_squared_error(y_test,pred_test_rr))) \n",
    "print(\"R2 (Ridge):\",metrics.r2_score(y_test, pred_test_rr))"
   ]
  },
  {
   "cell_type": "code",
   "execution_count": 49,
   "metadata": {},
   "outputs": [
    {
     "name": "stdout",
     "output_type": "stream",
     "text": [
      "[16.83333333 16.31666667 15.8        15.28333333 14.76666667]\n",
      "RMSE (Ridge): 4.720934464936176\n"
     ]
    }
   ],
   "source": [
    "rr = Ridge(alpha=2)\n",
    "X_train2 = np.array([[0.8], [1], [1.2], [1.4], [1.6]])\n",
    "y_train2 = np.array([24, 20, 10, 13, 12])\n",
    "rr.fit(X_train2, y_train2) \n",
    "pred_test_rr= rr.predict(X_train2)\n",
    "print(pred_test_rr)\n",
    "print(\"RMSE (Ridge):\",np.sqrt(metrics.mean_squared_error(y_train2,pred_test_rr))) \n",
    "#print(\"R2 (Ridge):\",metrics.r2_score(y_test, pred_test_rr))"
   ]
  },
  {
   "cell_type": "code",
   "execution_count": 27,
   "metadata": {},
   "outputs": [
    {
     "name": "stdout",
     "output_type": "stream",
     "text": [
      "RMSE (Lasso): 5.641926307796152\n",
      "R2 (Lasso): 0.7215370887213186\n"
     ]
    }
   ],
   "source": [
    "model_lasso = Lasso(alpha=0.01)\n",
    "model_lasso.fit(X_train, y_train) \n",
    "pred_test_lasso= model_lasso.predict(X_test)\n",
    "print(\"RMSE (Lasso):\",np.sqrt(metrics.mean_squared_error(y_test,pred_test_lasso))) \n",
    "print(\"R2 (Lasso):\",metrics.r2_score(y_test, pred_test_lasso))"
   ]
  },
  {
   "cell_type": "markdown",
   "metadata": {},
   "source": [
    "**Non-parametric regressors**"
   ]
  },
  {
   "cell_type": "code",
   "execution_count": 28,
   "metadata": {},
   "outputs": [],
   "source": [
    "from sklearn.neighbors import KNeighborsRegressor\n",
    "from sklearn.tree import DecisionTreeRegressor"
   ]
  },
  {
   "cell_type": "code",
   "execution_count": 29,
   "metadata": {},
   "outputs": [
    {
     "name": "stdout",
     "output_type": "stream",
     "text": [
      "RMSE (DTree): 6.065204903901911\n",
      "R2 (DTree): 0.6781870654783597\n"
     ]
    }
   ],
   "source": [
    "tree_regressor = DecisionTreeRegressor()\n",
    "tree_regressor.fit(X_train, y_train)\n",
    "pred_test_tree = tree_regressor.predict(X_test)\n",
    "print(\"RMSE (DTree):\",np.sqrt(metrics.mean_squared_error(y_test,pred_test_tree))) \n",
    "print(\"R2 (DTree):\",metrics.r2_score(y_test, pred_test_tree))"
   ]
  },
  {
   "cell_type": "code",
   "execution_count": 30,
   "metadata": {},
   "outputs": [
    {
     "name": "stdout",
     "output_type": "stream",
     "text": [
      "RMSE (kNN): 7.457041003395099\n",
      "R2 (kNN): 0.5135417166351847\n"
     ]
    }
   ],
   "source": [
    "knn_regressor = KNeighborsRegressor()\n",
    "knn_regressor.fit(X_train, y_train)\n",
    "pred_test_knn = knn_regressor.predict(X_test)\n",
    "print(\"RMSE (kNN):\",np.sqrt(metrics.mean_squared_error(y_test,pred_test_knn))) \n",
    "print(\"R2 (kNN):\",metrics.r2_score(y_test, pred_test_knn))"
   ]
  },
  {
   "cell_type": "markdown",
   "metadata": {},
   "source": [
    "**Cross-validation** (identical to our previous notebook)"
   ]
  },
  {
   "cell_type": "code",
   "execution_count": 31,
   "metadata": {},
   "outputs": [
    {
     "data": {
      "text/plain": [
       "array([ 0.73376082,  0.4730725 , -1.00631454,  0.64113984,  0.54766046,\n",
       "        0.73640292,  0.37828386, -0.12922703, -0.76843243,  0.4189435 ])"
      ]
     },
     "execution_count": 31,
     "metadata": {},
     "output_type": "execute_result"
    }
   ],
   "source": [
    "from sklearn.model_selection import cross_val_score\n",
    "regressor = LinearRegression()\n",
    "cross_val_score(regressor, X, y, cv=10)"
   ]
  },
  {
   "cell_type": "markdown",
   "metadata": {},
   "source": [
    "### 2) Evaluation"
   ]
  },
  {
   "cell_type": "markdown",
   "metadata": {},
   "source": [
    "Let us recover our linear model for residual analysis on the testing set"
   ]
  },
  {
   "cell_type": "code",
   "execution_count": 32,
   "metadata": {},
   "outputs": [
    {
     "name": "stdout",
     "output_type": "stream",
     "text": [
      "RMSE: 5.641775532184689\n",
      "MAE: 3.9079661456255614\n",
      "Train R2: 0.7215519718844141\n",
      "Test R2: 0.7215519718844141\n"
     ]
    }
   ],
   "source": [
    "y_true, y_pred = y_test, pred_test_lr\n",
    "print(\"RMSE:\",np.sqrt(metrics.mean_squared_error(y_true, y_pred)))\n",
    "print(\"MAE:\",metrics.mean_absolute_error(y_true, y_pred))\n",
    "print(\"Train R2:\",metrics.r2_score(y_true, y_pred))\n",
    "print(\"Test R2:\",metrics.r2_score(y_true, y_pred))"
   ]
  },
  {
   "cell_type": "markdown",
   "metadata": {},
   "source": [
    "Let us recover our linear model for residual analysis on CV folds"
   ]
  },
  {
   "cell_type": "code",
   "execution_count": 33,
   "metadata": {},
   "outputs": [
    {
     "name": "stdout",
     "output_type": "stream",
     "text": [
      "MSE: 34.705255944524936\n",
      "MAE: 4.0049466353239955\n",
      "Max error: 14.24417284756449\n",
      "Test R2: 0.2025289900605535\n"
     ]
    }
   ],
   "source": [
    "regressor = LinearRegression()\n",
    "print(\"MSE:\",-np.mean(cross_val_score(regressor, X, y, cv=10, scoring='neg_mean_squared_error')))\n",
    "print(\"MAE:\",-np.mean(cross_val_score(regressor, X, y, cv=10, scoring='neg_mean_absolute_error')))\n",
    "print(\"Max error:\",-np.mean(cross_val_score(regressor, X, y, cv=10, scoring='max_error')))\n",
    "print(\"Test R2:\",np.mean(cross_val_score(regressor, X, y, cv=10, scoring='r2')))"
   ]
  },
  {
   "cell_type": "code",
   "execution_count": 34,
   "metadata": {},
   "outputs": [
    {
     "data": {
      "text/plain": [
       "0.7215519718844141"
      ]
     },
     "execution_count": 34,
     "metadata": {},
     "output_type": "execute_result"
    }
   ],
   "source": [
    "metrics.r2_score(y_true, y_pred) #R2 on testing set"
   ]
  },
  {
   "cell_type": "markdown",
   "metadata": {},
   "source": [
    "### 3) Regression over mixed data"
   ]
  },
  {
   "cell_type": "markdown",
   "metadata": {},
   "source": [
    "**Loading** case dataset"
   ]
  },
  {
   "cell_type": "code",
   "execution_count": 35,
   "metadata": {},
   "outputs": [
    {
     "name": "stdout",
     "output_type": "stream",
     "text": [
      "Number of instances: (200, 4)\n"
     ]
    },
    {
     "data": {
      "text/html": [
       "<div>\n",
       "<style scoped>\n",
       "    .dataframe tbody tr th:only-of-type {\n",
       "        vertical-align: middle;\n",
       "    }\n",
       "\n",
       "    .dataframe tbody tr th {\n",
       "        vertical-align: top;\n",
       "    }\n",
       "\n",
       "    .dataframe thead th {\n",
       "        text-align: right;\n",
       "    }\n",
       "</style>\n",
       "<table border=\"1\" class=\"dataframe\">\n",
       "  <thead>\n",
       "    <tr style=\"text-align: right;\">\n",
       "      <th></th>\n",
       "      <th>TV</th>\n",
       "      <th>Radio</th>\n",
       "      <th>Newspaper</th>\n",
       "      <th>Sales</th>\n",
       "      <th>Size</th>\n",
       "      <th>Area</th>\n",
       "    </tr>\n",
       "  </thead>\n",
       "  <tbody>\n",
       "    <tr>\n",
       "      <th>1</th>\n",
       "      <td>230.1</td>\n",
       "      <td>37.8</td>\n",
       "      <td>69.2</td>\n",
       "      <td>22.1</td>\n",
       "      <td>small</td>\n",
       "      <td>urban</td>\n",
       "    </tr>\n",
       "    <tr>\n",
       "      <th>2</th>\n",
       "      <td>44.5</td>\n",
       "      <td>39.3</td>\n",
       "      <td>45.1</td>\n",
       "      <td>10.4</td>\n",
       "      <td>small</td>\n",
       "      <td>suburban</td>\n",
       "    </tr>\n",
       "    <tr>\n",
       "      <th>3</th>\n",
       "      <td>17.2</td>\n",
       "      <td>45.9</td>\n",
       "      <td>69.3</td>\n",
       "      <td>9.3</td>\n",
       "      <td>small</td>\n",
       "      <td>suburban</td>\n",
       "    </tr>\n",
       "    <tr>\n",
       "      <th>4</th>\n",
       "      <td>151.5</td>\n",
       "      <td>41.3</td>\n",
       "      <td>58.5</td>\n",
       "      <td>18.5</td>\n",
       "      <td>small</td>\n",
       "      <td>urban</td>\n",
       "    </tr>\n",
       "    <tr>\n",
       "      <th>5</th>\n",
       "      <td>180.8</td>\n",
       "      <td>10.8</td>\n",
       "      <td>58.4</td>\n",
       "      <td>12.9</td>\n",
       "      <td>large</td>\n",
       "      <td>suburban</td>\n",
       "    </tr>\n",
       "  </tbody>\n",
       "</table>\n",
       "</div>"
      ],
      "text/plain": [
       "      TV  Radio  Newspaper  Sales   Size      Area\n",
       "1  230.1   37.8       69.2   22.1  small     urban\n",
       "2   44.5   39.3       45.1   10.4  small  suburban\n",
       "3   17.2   45.9       69.3    9.3  small  suburban\n",
       "4  151.5   41.3       58.5   18.5  small     urban\n",
       "5  180.8   10.8       58.4   12.9  large  suburban"
      ]
     },
     "execution_count": 35,
     "metadata": {},
     "output_type": "execute_result"
    }
   ],
   "source": [
    "dataurl = 'https://raw.githubusercontent.com/buruzaemon/me-ml/master/ISLR/Data/Advertising.csv'\n",
    "data = pd.read_csv(dataurl, index_col=0)\n",
    "print(\"Number of instances:\",data.shape)\n",
    "\n",
    "#adding a binary attribute\n",
    "data['Size'] = 'small'\n",
    "mask_large = np.random.rand(len(data)) > 0.5\n",
    "data.loc[mask_large, 'Size'] = 'large'\n",
    "\n",
    "#adding a nominal attribute\n",
    "nums = np.random.rand(len(data))\n",
    "data['Area'] = 'rural'\n",
    "data.loc[(nums > 0.33) & (nums < 0.66), 'Area'] = 'suburban'\n",
    "data.loc[nums > 0.66, 'Area'] = 'urban'\n",
    "\n",
    "data.head()"
   ]
  },
  {
   "cell_type": "markdown",
   "metadata": {},
   "source": [
    "**Visualizing** data (assuming *Sales* is the output variable)"
   ]
  },
  {
   "cell_type": "code",
   "execution_count": 36,
   "metadata": {},
   "outputs": [
    {
     "data": {
      "text/plain": [
       "<AxesSubplot: xlabel='Newspaper', ylabel='Sales'>"
      ]
     },
     "execution_count": 36,
     "metadata": {},
     "output_type": "execute_result"
    },
    {
     "data": {
      "image/png": "[encoded data removed]",
      "text/plain": [
       "<Figure size 1000x400 with 3 Axes>"
      ]
     },
     "metadata": {},
     "output_type": "display_data"
    }
   ],
   "source": [
    "import matplotlib.pyplot as plt\n",
    "fig, axs = plt.subplots(1, 3, sharey=True)\n",
    "data.plot(kind='scatter', x='TV', y='Sales', ax=axs[0], figsize=(10, 4))\n",
    "data.plot(kind='scatter', x='Radio', y='Sales', ax=axs[1])\n",
    "data.plot(kind='scatter', x='Newspaper', y='Sales', ax=axs[2])"
   ]
  },
  {
   "cell_type": "code",
   "execution_count": 37,
   "metadata": {},
   "outputs": [
    {
     "data": {
      "text/plain": [
       "<AxesSubplot: xlabel='Area', ylabel='Sales'>"
      ]
     },
     "execution_count": 37,
     "metadata": {},
     "output_type": "execute_result"
    },
    {
     "data": {
      "image/png": "[encoded data removed]",
      "text/plain": [
       "<Figure size 640x480 with 2 Axes>"
      ]
     },
     "metadata": {},
     "output_type": "display_data"
    }
   ],
   "source": [
    "import seaborn as sns\n",
    "fig, axs = plt.subplots(1, 2, sharey=True)\n",
    "sns.boxplot(x=\"Size\", y=\"Sales\", data=data, ax=axs[0])\n",
    "sns.boxplot(x=\"Area\", y=\"Sales\", data=data, ax=axs[1])"
   ]
  },
  {
   "cell_type": "markdown",
   "metadata": {},
   "source": [
    "**Preparing data for regressors unable to handle categoric data**:<br>\n",
    "1) binary variables should be maintained (no dummification)<br>\n",
    "2) nominal variables should be mapped into a compact set of binary variables"
   ]
  },
  {
   "cell_type": "code",
   "execution_count": 38,
   "metadata": {},
   "outputs": [
    {
     "data": {
      "text/html": [
       "<div>\n",
       "<style scoped>\n",
       "    .dataframe tbody tr th:only-of-type {\n",
       "        vertical-align: middle;\n",
       "    }\n",
       "\n",
       "    .dataframe tbody tr th {\n",
       "        vertical-align: top;\n",
       "    }\n",
       "\n",
       "    .dataframe thead th {\n",
       "        text-align: right;\n",
       "    }\n",
       "</style>\n",
       "<table border=\"1\" class=\"dataframe\">\n",
       "  <thead>\n",
       "    <tr style=\"text-align: right;\">\n",
       "      <th></th>\n",
       "      <th>TV</th>\n",
       "      <th>Radio</th>\n",
       "      <th>Newspaper</th>\n",
       "      <th>Sales</th>\n",
       "      <th>Size</th>\n",
       "      <th>IsLarge</th>\n",
       "      <th>Area_suburban</th>\n",
       "      <th>Area_urban</th>\n",
       "    </tr>\n",
       "  </thead>\n",
       "  <tbody>\n",
       "    <tr>\n",
       "      <th>1</th>\n",
       "      <td>230.1</td>\n",
       "      <td>37.8</td>\n",
       "      <td>69.2</td>\n",
       "      <td>22.1</td>\n",
       "      <td>small</td>\n",
       "      <td>0</td>\n",
       "      <td>0</td>\n",
       "      <td>1</td>\n",
       "    </tr>\n",
       "    <tr>\n",
       "      <th>2</th>\n",
       "      <td>44.5</td>\n",
       "      <td>39.3</td>\n",
       "      <td>45.1</td>\n",
       "      <td>10.4</td>\n",
       "      <td>small</td>\n",
       "      <td>0</td>\n",
       "      <td>1</td>\n",
       "      <td>0</td>\n",
       "    </tr>\n",
       "    <tr>\n",
       "      <th>3</th>\n",
       "      <td>17.2</td>\n",
       "      <td>45.9</td>\n",
       "      <td>69.3</td>\n",
       "      <td>9.3</td>\n",
       "      <td>small</td>\n",
       "      <td>0</td>\n",
       "      <td>1</td>\n",
       "      <td>0</td>\n",
       "    </tr>\n",
       "    <tr>\n",
       "      <th>4</th>\n",
       "      <td>151.5</td>\n",
       "      <td>41.3</td>\n",
       "      <td>58.5</td>\n",
       "      <td>18.5</td>\n",
       "      <td>small</td>\n",
       "      <td>0</td>\n",
       "      <td>0</td>\n",
       "      <td>1</td>\n",
       "    </tr>\n",
       "    <tr>\n",
       "      <th>5</th>\n",
       "      <td>180.8</td>\n",
       "      <td>10.8</td>\n",
       "      <td>58.4</td>\n",
       "      <td>12.9</td>\n",
       "      <td>large</td>\n",
       "      <td>1</td>\n",
       "      <td>1</td>\n",
       "      <td>0</td>\n",
       "    </tr>\n",
       "  </tbody>\n",
       "</table>\n",
       "</div>"
      ],
      "text/plain": [
       "      TV  Radio  Newspaper  Sales   Size  IsLarge  Area_suburban  Area_urban\n",
       "1  230.1   37.8       69.2   22.1  small        0              0           1\n",
       "2   44.5   39.3       45.1   10.4  small        0              1           0\n",
       "3   17.2   45.9       69.3    9.3  small        0              1           0\n",
       "4  151.5   41.3       58.5   18.5  small        0              0           1\n",
       "5  180.8   10.8       58.4   12.9  large        1              1           0"
      ]
     },
     "execution_count": 38,
     "metadata": {},
     "output_type": "execute_result"
    }
   ],
   "source": [
    "dendata = data.copy()\n",
    "dendata['IsLarge'] = data.Size.map({'small':0, 'large':1})\n",
    "#del dendata['Size']\n",
    "\n",
    "# create 3 dummy variables and then exclude the first dummy column\n",
    "area_dummies = pd.get_dummies(data.Area, prefix='Area').iloc[:,1:]\n",
    "dendata = pd.concat([dendata, area_dummies], axis=1)\n",
    "del dendata['Area']\n",
    "\n",
    "dendata.head()"
   ]
  },
  {
   "cell_type": "markdown",
   "metadata": {},
   "source": [
    "Applying **classic regressors**: nominal data needs to be removed or denormalized"
   ]
  },
  {
   "cell_type": "code",
   "execution_count": 39,
   "metadata": {},
   "outputs": [
    {
     "name": "stdout",
     "output_type": "stream",
     "text": [
      "Intercept: 2.938889369459412 \n",
      "Coefficients: [ 0.04576465  0.18853002 -0.00103749] \n",
      "R2: 0.8972106381789522\n"
     ]
    }
   ],
   "source": [
    "# removal of categorical variables\n",
    "X_rem, y_rem = data[['TV', 'Radio', 'Newspaper']], data.Sales\n",
    "lm_rem = LinearRegression()\n",
    "lm_rem.fit(X_rem, y_rem)\n",
    "print(\"Intercept:\",lm_rem.intercept_,\"\\nCoefficients:\",lm_rem.coef_,\"\\nR2:\",lm_rem.score(X_rem, y_rem))"
   ]
  },
  {
   "cell_type": "code",
   "execution_count": 40,
   "metadata": {},
   "outputs": [
    {
     "name": "stdout",
     "output_type": "stream",
     "text": [
      "Accuracy in the absence of categorical vars:  0.8853562237979616\n",
      "Accuracy in the presence of categorical vars: 0.882804169401628\n"
     ]
    }
   ],
   "source": [
    "# inclusion of categorical variables\n",
    "X_all, y_all = dendata[['TV', 'Radio', 'Newspaper', 'IsLarge', 'Area_suburban', 'Area_urban']], dendata.Sales\n",
    "lm_all = LinearRegression()\n",
    "print(\"Accuracy in the absence of categorical vars: \",np.mean(cross_val_score(lm_rem, X_rem, y_rem, cv=10)))\n",
    "print(\"Accuracy in the presence of categorical vars:\",np.mean(cross_val_score(lm_all, X_all, y_all, cv=10)))"
   ]
  },
  {
   "cell_type": "code",
   "execution_count": 41,
   "metadata": {},
   "outputs": [
    {
     "name": "stderr",
     "output_type": "stream",
     "text": [
      "c:\\Users\\Utilizador\\AppData\\Local\\Programs\\Python\\Python310\\lib\\site-packages\\sklearn\\base.py:450: UserWarning: X does not have valid feature names, but LinearRegression was fitted with feature names\n",
      "  warnings.warn(\n"
     ]
    },
    {
     "data": {
      "text/plain": [
       "array([12.20266701, 14.60174784])"
      ]
     },
     "execution_count": 41,
     "metadata": {},
     "output_type": "execute_result"
    }
   ],
   "source": [
    "# estimate sales for two real-valued observations\n",
    "lm_rem.predict([[100, 25, 25], [50, 50, 50]])"
   ]
  }
 ],
 "metadata": {
  "kernelspec": {
   "display_name": "Python 3.10.6 64-bit",
   "language": "python",
   "name": "python3"
  },
  "language_info": {
   "codemirror_mode": {
    "name": "ipython",
    "version": 3
   },
   "file_extension": ".py",
   "mimetype": "text/x-python",
   "name": "python",
   "nbconvert_exporter": "python",
   "pygments_lexer": "ipython3",
   "version": "3.10.6"
  },
  "vscode": {
   "interpreter": {
    "hash": "11bc3faa42291987dff8047a7fe728de8bffd01e5e426b1fc111590146fa91bf"
   }
  }
 },
 "nbformat": 4,
 "nbformat_minor": 4
}
