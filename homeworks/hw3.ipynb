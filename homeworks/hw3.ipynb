{
 "cells": [
  {
   "cell_type": "code",
   "execution_count": 12,
   "metadata": {},
   "outputs": [
    {
     "name": "stdout",
     "output_type": "stream",
     "text": [
      "160.00812992262402\n",
      "218.50003392262403\n",
      "228.73076881932803\n",
      "229.41598192550404\n",
      "234.15628627168005\n",
      "\n",
      "46.83125725433601\n"
     ]
    }
   ],
   "source": [
    "x = [0.8, 1, 1.2, 1.4, 1.6]\n",
    "z = [24, 20, 10, 13, 12]\n",
    "res = 0\n",
    "for i in range(len(x)):\n",
    "    res += (z[i] - (7.045+4.641*x[i]+1.967*(x[i]**2)-1.301*(x[i]**3)))**2\n",
    "    print(res)\n",
    "print()\n",
    "print(res*(1/5))"
   ]
  }
 ],
 "metadata": {
  "kernelspec": {
   "display_name": "Python 3.10.6 64-bit",
   "language": "python",
   "name": "python3"
  },
  "language_info": {
   "codemirror_mode": {
    "name": "ipython",
    "version": 3
   },
   "file_extension": ".py",
   "mimetype": "text/x-python",
   "name": "python",
   "nbconvert_exporter": "python",
   "pygments_lexer": "ipython3",
   "version": "3.10.6"
  },
  "orig_nbformat": 4,
  "vscode": {
   "interpreter": {
    "hash": "11bc3faa42291987dff8047a7fe728de8bffd01e5e426b1fc111590146fa91bf"
   }
  }
 },
 "nbformat": 4,
 "nbformat_minor": 2
}
